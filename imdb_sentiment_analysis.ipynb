{
  "nbformat": 4,
  "nbformat_minor": 0,
  "metadata": {
    "colab": {
      "provenance": []
    },
    "kernelspec": {
      "name": "python3",
      "display_name": "Python 3"
    },
    "language_info": {
      "name": "python"
    }
  },
  "cells": [
    {
      "cell_type": "markdown",
      "source": [
        "Используя набор данных IMDB сделано:\n",
        "1. Спроектировать модель классификации отзывов к фильмам с точностью на валидационной выборке более 80%.\n",
        "2. Показать, что модель способна классифицировать отзывы с вероятностью более 88% на контрольной выборке."
      ],
      "metadata": {
        "id": "xNAPqodeKiw4"
      }
    },
    {
      "cell_type": "code",
      "source": [
        "from keras.datasets import imdb\n",
        "from keras.models import Sequential\n",
        "from keras.layers import Dense\n",
        "from keras import utils\n",
        "from keras.preprocessing.sequence import pad_sequences\n",
        "from keras import regularizers\n",
        "import numpy as np\n",
        "import matplotlib.pyplot as plt\n",
        "%matplotlib inline"
      ],
      "metadata": {
        "id": "lwn-MChSc8eY"
      },
      "execution_count": null,
      "outputs": []
    },
    {
      "cell_type": "code",
      "source": [
        "# Загрузка данных\n",
        "(train_data, train_labels), (test_data, test_labels) = imdb.load_data(num_words=10000)"
      ],
      "metadata": {
        "id": "JV9k5Os8K5ST"
      },
      "execution_count": null,
      "outputs": []
    },
    {
      "cell_type": "code",
      "source": [
        "# Вывод размеров полученных наборов данных\n",
        "print(\"Размеры тренировочной выборки:\", len(train_data))\n",
        "print(\"Размеры проверочной выборки:\", len(test_data))"
      ],
      "metadata": {
        "id": "X5n8_5MIc3gu"
      },
      "execution_count": null,
      "outputs": []
    },
    {
      "cell_type": "code",
      "source": [
        "import numpy as np\n",
        "def vectorize_sequences(sequences, dimension=10000):\n",
        "    results = np.zeros((len(sequences), dimension)) # Создаем нулевой вектор с размерностью 10000!\n",
        "    for i, sequence in enumerate(sequences):\n",
        "        results[i, sequence] = 1. # Записываем единицы в элемент с данным индексом\n",
        "    return results\n",
        "\n",
        "x_train = vectorize_sequences(train_data) # Векторизуем обучающие данные\n",
        "x_test  = vectorize_sequences(test_data)  # Векторизуем контрольные данные"
      ],
      "metadata": {
        "id": "_QXQQLdhbEY7"
      },
      "execution_count": null,
      "outputs": []
    },
    {
      "cell_type": "code",
      "source": [
        "y_train = np.asarray(train_labels).astype('float32')\n",
        "y_test = np.asarray(test_labels).astype('float32')"
      ],
      "metadata": {
        "id": "NxeZlL8YbKum"
      },
      "execution_count": null,
      "outputs": []
    },
    {
      "cell_type": "code",
      "source": [
        "import keras\n",
        "from keras.callbacks import EarlyStopping\n",
        "from keras import models\n",
        "from keras import layers\n",
        "from keras import regularizers\n",
        "\n",
        "# Определим раннюю остановку\n",
        "early_stopping = EarlyStopping(monitor='val_loss', patience=3, restore_best_weights=True)\n",
        "\n",
        "\n",
        "model = models.Sequential()\n",
        "model.add(layers.Dense(4096, activation='relu', kernel_regularizer=regularizers.l2(0.02), input_shape=(10000,)))\n",
        "model.add(layers.Dropout(0.7))\n",
        "model.add(layers.Dense(2048, activation='relu', kernel_regularizer=regularizers.l2(0.02)))\n",
        "model.add(layers.Dropout(0.7))\n",
        "model.add(layers.Dense(1024, activation='relu', kernel_regularizer=regularizers.l2(0.02)))\n",
        "model.add(layers.Dropout(0.7))\n",
        "model.add(layers.Dense(512, activation='relu', kernel_regularizer=regularizers.l2(0.02)))\n",
        "model.add(layers.Dropout(0.7))\n",
        "model.add(layers.Dense(1, activation='sigmoid'))"
      ],
      "metadata": {
        "id": "eNiIIglPbMgm"
      },
      "execution_count": null,
      "outputs": []
    },
    {
      "cell_type": "code",
      "source": [
        "optimizer = keras.optimizers.Adam(learning_rate=0.0001)\n",
        "\n",
        "EPOCHS = 30\n",
        "BATCH_SIZE = 256\n",
        "\n",
        "\n",
        "model.compile(optimizer=optimizer, loss='binary_crossentropy', metrics=['accuracy'])\n",
        "\n",
        "\n",
        "history = model.fit(x_train, y_train, epochs=EPOCHS, batch_size=BATCH_SIZE,\n",
        "                    validation_split=0.1, callbacks=[early_stopping])"
      ],
      "metadata": {
        "id": "FZn6p7uibN9k"
      },
      "execution_count": null,
      "outputs": []
    },
    {
      "cell_type": "code",
      "source": [
        "history_dict = history.history\n",
        "history_dict.keys()"
      ],
      "metadata": {
        "id": "N-R9Ajgubb4T"
      },
      "execution_count": null,
      "outputs": []
    },
    {
      "cell_type": "code",
      "source": [
        "import matplotlib.pyplot as plt\n",
        "history_dict = history.history\n",
        "epochs = range(1, len(history_dict['loss'])+1)\n",
        "plt.plot(epochs, history_dict['loss'], 'bo', label='Потери на этапе обучения')\n",
        "plt.plot(epochs, history_dict['val_loss'], 'b', label='Потери на этапе проверки')\n",
        "plt.title('Потери на этапах проверки и обучения')\n",
        "plt.xlabel('Эпохи')\n",
        "plt.ylabel('Потери')\n",
        "plt.legend()\n",
        "plt.show()"
      ],
      "metadata": {
        "id": "bmom60QsbhfL"
      },
      "execution_count": null,
      "outputs": []
    },
    {
      "cell_type": "code",
      "source": [
        "plt.clf() # Очистить рисунок\n",
        "plt.plot(epochs, history_dict['accuracy'], 'bo', label='Точность на этапе обучения')\n",
        "plt.plot(epochs, history_dict['val_accuracy'], 'b', label='Точность на этапе проверки')\n",
        "plt.title('Точность на этапе проверки и обучения')\n",
        "plt.xlabel('Эпохи')\n",
        "plt.ylabel('Точность')\n",
        "plt.legend()\n",
        "plt.show()"
      ],
      "metadata": {
        "id": "tuKjt-cfbi64"
      },
      "execution_count": null,
      "outputs": []
    },
    {
      "cell_type": "code",
      "source": [
        "scores = model.evaluate(x_test, y_test, verbose=1)\n",
        "print(\"Доля верных ответов на тестовых данных, в процентах:\", round(scores[1] * 100, 4))"
      ],
      "metadata": {
        "id": "e2poO2LZm_b4"
      },
      "execution_count": null,
      "outputs": []
    }
  ]
}